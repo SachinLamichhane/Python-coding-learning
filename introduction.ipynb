{
 "cells": [
  {
   "cell_type": "code",
   "execution_count": 1,
   "id": "3bbcab2a",
   "metadata": {},
   "outputs": [
    {
     "data": {
      "text/plain": [
       "28"
      ]
     },
     "execution_count": 1,
     "metadata": {},
     "output_type": "execute_result"
    }
   ],
   "source": [
    "len('My name is Sachin Lamichhane')"
   ]
  },
  {
   "cell_type": "code",
   "execution_count": 2,
   "id": "d5fff54b",
   "metadata": {},
   "outputs": [],
   "source": [
    "sachin = 'My name is Sachin Lamichhane'"
   ]
  },
  {
   "cell_type": "code",
   "execution_count": 3,
   "id": "bb7763ef",
   "metadata": {},
   "outputs": [
    {
     "data": {
      "text/plain": [
       "28"
      ]
     },
     "execution_count": 3,
     "metadata": {},
     "output_type": "execute_result"
    }
   ],
   "source": [
    "len(sachin)"
   ]
  },
  {
   "cell_type": "code",
   "execution_count": 4,
   "id": "91c04ba6",
   "metadata": {},
   "outputs": [
    {
     "data": {
      "text/plain": [
       "str"
      ]
     },
     "execution_count": 4,
     "metadata": {},
     "output_type": "execute_result"
    }
   ],
   "source": [
    "type(sachin)"
   ]
  },
  {
   "cell_type": "code",
   "execution_count": 5,
   "id": "53de4d69",
   "metadata": {},
   "outputs": [
    {
     "data": {
      "text/plain": [
       "'M'"
      ]
     },
     "execution_count": 5,
     "metadata": {},
     "output_type": "execute_result"
    }
   ],
   "source": [
    "sachin[0]"
   ]
  },
  {
   "cell_type": "code",
   "execution_count": null,
   "id": "56924e41",
   "metadata": {},
   "outputs": [],
   "source": []
  },
  {
   "cell_type": "code",
   "execution_count": 2,
   "id": "2c7b6453",
   "metadata": {},
   "outputs": [],
   "source": [
    "m = 'Sachin'"
   ]
  },
  {
   "cell_type": "code",
   "execution_count": 3,
   "id": "0d7b0127",
   "metadata": {},
   "outputs": [],
   "source": [
    "n= ' Lamichhane'"
   ]
  },
  {
   "cell_type": "code",
   "execution_count": 4,
   "id": "52f76e97",
   "metadata": {},
   "outputs": [
    {
     "data": {
      "text/plain": [
       "'Sachin Lamichhane'"
      ]
     },
     "execution_count": 4,
     "metadata": {},
     "output_type": "execute_result"
    }
   ],
   "source": [
    "m + n"
   ]
  },
  {
   "cell_type": "code",
   "execution_count": 5,
   "id": "b78e1312",
   "metadata": {},
   "outputs": [
    {
     "data": {
      "text/plain": [
       "'Sachin 123 Lamichhane'"
      ]
     },
     "execution_count": 5,
     "metadata": {},
     "output_type": "execute_result"
    }
   ],
   "source": [
    "m +\" \"+'123' + n"
   ]
  },
  {
   "cell_type": "code",
   "execution_count": 14,
   "id": "57482fc3",
   "metadata": {},
   "outputs": [
    {
     "data": {
      "text/plain": [
       "str"
      ]
     },
     "execution_count": 14,
     "metadata": {},
     "output_type": "execute_result"
    }
   ],
   "source": [
    "type(m+n)"
   ]
  },
  {
   "cell_type": "code",
   "execution_count": 15,
   "id": "a4efb72f",
   "metadata": {},
   "outputs": [],
   "source": [
    "import numpy"
   ]
  },
  {
   "cell_type": "markdown",
   "id": "b23d6456",
   "metadata": {},
   "source": [
    "Lists"
   ]
  },
  {
   "cell_type": "markdown",
   "id": "3f90b97d",
   "metadata": {},
   "source": [
    "conditions and loops"
   ]
  },
  {
   "cell_type": "code",
   "execution_count": 16,
   "id": "2fdb8f50",
   "metadata": {},
   "outputs": [
    {
     "name": "stdout",
     "output_type": "stream",
     "text": [
      "We are inside an if block\n",
      "The given number 34 is even\n"
     ]
    }
   ],
   "source": [
    "a_number = 34\n",
    "\n",
    "if a_number % 2 == 0:\n",
    "    print(\"We are inside an if block\")\n",
    "    print( 'The given number {} is even'.format(a_number))"
   ]
  },
  {
   "cell_type": "code",
   "execution_count": 22,
   "id": "60f105a7",
   "metadata": {},
   "outputs": [
    {
     "name": "stdout",
     "output_type": "stream",
     "text": [
      "the number 33 is odd\n"
     ]
    }
   ],
   "source": [
    "a_number = 33\n",
    "\n",
    "if a_number % 2 == 0:\n",
    "    print(\"We are inside an if block\")\n",
    "    print( 'The given number {} is even'.format(a_number))\n",
    "else:\n",
    "        print('the number {} is odd'.format(a_number))"
   ]
  },
  {
   "cell_type": "markdown",
   "id": "fd059915",
   "metadata": {},
   "source": [
    "while loop"
   ]
  },
  {
   "cell_type": "code",
   "execution_count": 29,
   "id": "3a813a91",
   "metadata": {},
   "outputs": [
    {
     "name": "stdout",
     "output_type": "stream",
     "text": [
      "CPU times: total: 0 ns\n",
      "Wall time: 0 ns\n",
      "The factorial of 100 is:93326215443944152681699238856266700490715968264381621468592963895217599993229915608941463976156518286253697920827223758251185210916864000000000000000000000000\n"
     ]
    }
   ],
   "source": [
    "%time\n",
    "\n",
    "result = 1\n",
    "i = 1\n",
    "while i <= 100:\n",
    "    result = result * i\n",
    "    i = i+1\n",
    "print('The factorial of 100 is:{}'.format(result))"
   ]
  },
  {
   "cell_type": "markdown",
   "id": "851ccb43",
   "metadata": {},
   "source": [
    "For loops"
   ]
  },
  {
   "cell_type": "code",
   "execution_count": 30,
   "id": "9f008706",
   "metadata": {},
   "outputs": [
    {
     "name": "stdout",
     "output_type": "stream",
     "text": [
      "Monday\n",
      "Tuesday\n",
      "Wednesday\n",
      "Thursday\n",
      "Friday\n"
     ]
    }
   ],
   "source": [
    "days = ['Monday','Tuesday','Wednesday','Thursday','Friday']\n",
    "for day in days:\n",
    "    print(day)"
   ]
  },
  {
   "cell_type": "code",
   "execution_count": 33,
   "id": "619c1d8f",
   "metadata": {},
   "outputs": [
    {
     "name": "stdout",
     "output_type": "stream",
     "text": [
      "M\n",
      "o\n",
      "n\n",
      "d\n",
      "a\n",
      "y\n"
     ]
    }
   ],
   "source": [
    "for char in 'Monday':\n",
    "    print(char)"
   ]
  },
  {
   "cell_type": "markdown",
   "id": "b670eecc",
   "metadata": {},
   "source": [
    "range of numbers"
   ]
  },
  {
   "cell_type": "code",
   "execution_count": 35,
   "id": "6330a130",
   "metadata": {},
   "outputs": [
    {
     "name": "stdout",
     "output_type": "stream",
     "text": [
      "3\n",
      "7\n",
      "11\n"
     ]
    }
   ],
   "source": [
    "for i in range(3,14,4):\n",
    "    print(i)"
   ]
  },
  {
   "cell_type": "code",
   "execution_count": 36,
   "id": "9db8ab6d",
   "metadata": {},
   "outputs": [
    {
     "name": "stdout",
     "output_type": "stream",
     "text": [
      "3\n",
      "4\n",
      "5\n",
      "6\n",
      "7\n",
      "8\n",
      "9\n",
      "10\n",
      "11\n",
      "12\n",
      "13\n"
     ]
    }
   ],
   "source": [
    "for i in range(3,14):\n",
    "    print(i)"
   ]
  },
  {
   "cell_type": "code",
   "execution_count": null,
   "id": "6c3b8f47",
   "metadata": {},
   "outputs": [],
   "source": [
    " "
   ]
  }
 ],
 "metadata": {
  "kernelspec": {
   "display_name": "Python 3 (ipykernel)",
   "language": "python",
   "name": "python3"
  },
  "language_info": {
   "codemirror_mode": {
    "name": "ipython",
    "version": 3
   },
   "file_extension": ".py",
   "mimetype": "text/x-python",
   "name": "python",
   "nbconvert_exporter": "python",
   "pygments_lexer": "ipython3",
   "version": "3.9.12"
  }
 },
 "nbformat": 4,
 "nbformat_minor": 5
}
