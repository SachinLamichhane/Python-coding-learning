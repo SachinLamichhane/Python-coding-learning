{
 "cells": [
  {
   "cell_type": "code",
   "execution_count": null,
   "id": "a8351d19",
   "metadata": {},
   "outputs": [],
   "source": [
    "conda install darknet\n"
   ]
  },
  {
   "cell_type": "code",
   "execution_count": null,
   "id": "3ce60735",
   "metadata": {},
   "outputs": [],
   "source": [
    "pip install darknet\n"
   ]
  },
  {
   "cell_type": "code",
   "execution_count": null,
   "id": "5f116a87",
   "metadata": {},
   "outputs": [],
   "source": [
    "import cv2\n",
    "import sys\n",
    "sys.path.append('python')\n",
    "import darknet as dn\n",
    "import time"
   ]
  },
  {
   "cell_type": "code",
   "execution_count": null,
   "id": "8a1f61e8",
   "metadata": {},
   "outputs": [],
   "source": [
    "pip install cv2"
   ]
  },
  {
   "cell_type": "code",
   "execution_count": null,
   "id": "ea6a0330",
   "metadata": {},
   "outputs": [],
   "source": [
    "pip install cv2"
   ]
  },
  {
   "cell_type": "code",
   "execution_count": null,
   "id": "bfb1fe84",
   "metadata": {},
   "outputs": [],
   "source": [
    "import cv2\n",
    "import sys\n",
    "sys.path.append('python')\n",
    "import darknet as dn\n",
    "import time"
   ]
  },
  {
   "cell_type": "code",
   "execution_count": 1,
   "id": "48ca4570",
   "metadata": {},
   "outputs": [
    {
     "name": "stdout",
     "output_type": "stream",
     "text": [
      "Note: you may need to restart the kernel to use updated packages.\n"
     ]
    },
    {
     "name": "stderr",
     "output_type": "stream",
     "text": [
      "ERROR: Could not find a version that satisfies the requirement sys (from versions: none)\n",
      "ERROR: No matching distribution found for sys\n"
     ]
    }
   ],
   "source": [
    "pip install sys"
   ]
  },
  {
   "cell_type": "code",
   "execution_count": null,
   "id": "36a54110",
   "metadata": {},
   "outputs": [],
   "source": []
  }
 ],
 "metadata": {
  "kernelspec": {
   "display_name": "Python 3 (ipykernel)",
   "language": "python",
   "name": "python3"
  },
  "language_info": {
   "codemirror_mode": {
    "name": "ipython",
    "version": 3
   },
   "file_extension": ".py",
   "mimetype": "text/x-python",
   "name": "python",
   "nbconvert_exporter": "python",
   "pygments_lexer": "ipython3",
   "version": "3.9.12"
  }
 },
 "nbformat": 4,
 "nbformat_minor": 5
}
