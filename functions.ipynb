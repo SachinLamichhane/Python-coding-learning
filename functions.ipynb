{
 "cells": [
  {
   "cell_type": "markdown",
   "id": "ba72e1ab",
   "metadata": {},
   "source": [
    "Creating and Using functions"
   ]
  },
  {
   "cell_type": "code",
   "execution_count": 1,
   "id": "2e51871c",
   "metadata": {},
   "outputs": [],
   "source": [
    "def say_hello():\n",
    "    print('Hello there')\n",
    "    print('How are you?')"
   ]
  },
  {
   "cell_type": "code",
   "execution_count": 2,
   "id": "3c22bc9f",
   "metadata": {},
   "outputs": [
    {
     "name": "stdout",
     "output_type": "stream",
     "text": [
      "Hello there\n",
      "How are you?\n"
     ]
    }
   ],
   "source": [
    "say_hello()"
   ]
  },
  {
   "cell_type": "markdown",
   "id": "6c4d494f",
   "metadata": {},
   "source": [
    "Function with arguments"
   ]
  },
  {
   "cell_type": "code",
   "execution_count": 3,
   "id": "ec4e587f",
   "metadata": {},
   "outputs": [],
   "source": [
    "def filter_even(number_list):\n",
    "    result_list = []\n",
    "    for number in number_list:\n",
    "        if number % 2 ==0:\n",
    "            result_list.append(number)\n",
    "    return result_list"
   ]
  },
  {
   "cell_type": "code",
   "execution_count": 4,
   "id": "c0019ab9",
   "metadata": {},
   "outputs": [],
   "source": [
    "even_list = filter_even ([1,2,2,2,5,6,5,98,7,8,55,66])"
   ]
  },
  {
   "cell_type": "code",
   "execution_count": 5,
   "id": "a6b816ad",
   "metadata": {},
   "outputs": [
    {
     "data": {
      "text/plain": [
       "[2, 2, 2, 6, 98, 8, 66]"
      ]
     },
     "execution_count": 5,
     "metadata": {},
     "output_type": "execute_result"
    }
   ],
   "source": [
    "even_list"
   ]
  },
  {
   "cell_type": "code",
   "execution_count": null,
   "id": "676dc416",
   "metadata": {},
   "outputs": [],
   "source": []
  }
 ],
 "metadata": {
  "kernelspec": {
   "display_name": "Python 3 (ipykernel)",
   "language": "python",
   "name": "python3"
  },
  "language_info": {
   "codemirror_mode": {
    "name": "ipython",
    "version": 3
   },
   "file_extension": ".py",
   "mimetype": "text/x-python",
   "name": "python",
   "nbconvert_exporter": "python",
   "pygments_lexer": "ipython3",
   "version": "3.9.12"
  }
 },
 "nbformat": 4,
 "nbformat_minor": 5
}
